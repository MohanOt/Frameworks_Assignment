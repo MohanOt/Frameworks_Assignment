{
 "cells": [
  {
   "cell_type": "code",
   "execution_count": null,
   "id": "4eff30a6-3d7e-498c-b37a-3abe02607246",
   "metadata": {},
   "outputs": [
    {
     "name": "stderr",
     "output_type": "stream",
     "text": [
      "/tmp/ipykernel_6168/737651862.py:4: DtypeWarning: Columns (1,4,5,6,13,14,15,16) have mixed types. Specify dtype option on import or set low_memory=False.\n",
      "  df = pd.read_csv('metadata.csv')\n"
     ]
    }
   ],
   "source": [
    "import pandas as pd\n",
    "\n",
    "# Load the metadata.csv file\n",
    "df = pd.read_csv('metadata.csv')\n",
    "\n",
    "# Show the first few rows\n",
    "df.head()\n"
   ]
  },
  {
   "cell_type": "code",
   "execution_count": null,
   "id": "75281bf9-1141-45fb-bd8b-b30fc781a84f",
   "metadata": {},
   "outputs": [],
   "source": [
    "# How many rows and columns?\n",
    "print(\"Shape:\", df.shape)\n",
    "\n",
    "# What are the column names?\n",
    "print(\"Columns:\", df.columns.tolist())\n",
    "# What types of data are in each column?\n",
    "df.info()\n",
    "# How many missing values in each column?\n",
    "df.isnull().sum()\n",
    "# Look at some titles and abstracts\n",
    "df[['title', 'abstract']].head(10)\n",
    "\n"
   ]
  },
  {
   "cell_type": "code",
   "execution_count": null,
   "id": "a9e39b4f-fd82-4522-86ae-47726cbb468e",
   "metadata": {},
   "outputs": [],
   "source": [
    "# Count missing values in each column\n",
    "missing_values = df.isnull().sum()\n",
    "missing_values = missing_values[missing_values > 0].sort_values(ascending=False)\n",
    "print(\"Missing values:\\n\", missing_values)\n"
   ]
  },
  {
   "cell_type": "code",
   "execution_count": null,
   "id": "d9fbff55-35eb-4108-890c-87aa30afc0c1",
   "metadata": {},
   "outputs": [],
   "source": [
    "df[['title', 'abstract', 'publish_time', 'journal']].head(10)\n"
   ]
  },
  {
   "cell_type": "code",
   "execution_count": null,
   "id": "843374cd-746f-4c5b-af12-1dea7c31f59e",
   "metadata": {},
   "outputs": [],
   "source": [
    "# Convert publish_time to datetime\n",
    "df['publish_time'] = pd.to_datetime(df['publish_time'], errors='coerce')\n",
    "\n",
    "# Extract year\n",
    "df['year'] = df['publish_time'].dt.year\n",
    "\n",
    "# Preview the new column\n",
    "df[['publish_time', 'year']].head()\n"
   ]
  },
  {
   "cell_type": "code",
   "execution_count": null,
   "id": "65fd2682-dfad-4f7e-bd85-55cf4ad9b4b3",
   "metadata": {},
   "outputs": [],
   "source": [
    "# Add abstract word count\n",
    "df['abstract_word_count'] = df['abstract'].fillna('').apply(lambda x: len(x.split()))\n",
    "\n",
    "# Preview\n",
    "df[['abstract', 'abstract_word_count']].head()\n"
   ]
  },
  {
   "cell_type": "code",
   "execution_count": null,
   "id": "e3d1655b-b701-4bb0-b9e9-ce82b4b3fef1",
   "metadata": {},
   "outputs": [],
   "source": [
    "# Show columns with more than 50% missing values\n",
    "missing_ratio = df.isnull().mean()\n",
    "high_missing = missing_ratio[missing_ratio > 0.5]\n",
    "print(\"Columns with >50% missing values:\\n\", high_missing)\n"
   ]
  },
  {
   "cell_type": "code",
   "execution_count": null,
   "id": "41ac2084-da15-457b-8655-ced4c232d5dd",
   "metadata": {},
   "outputs": [],
   "source": [
    "# Drop columns with too many missing values\n",
    "df_cleaned = df.drop(columns=high_missing.index)\n",
    "\n",
    "# Drop rows missing critical info like title or publish_time\n",
    "df_cleaned = df_cleaned.dropna(subset=['title', 'publish_time'])\n",
    "\n",
    "# Confirm cleanup\n",
    "print(\"Cleaned shape:\", df_cleaned.shape)\n"
   ]
  },
  {
   "cell_type": "code",
   "execution_count": null,
   "id": "097769be-4383-4163-867c-7522d113ab63",
   "metadata": {},
   "outputs": [],
   "source": [
    "df_cleaned['journal'] = df_cleaned['journal'].fillna('Unknown')\n"
   ]
  },
  {
   "cell_type": "code",
   "execution_count": null,
   "id": "cb4e7f69-3fc2-4232-b5e1-ef19ca0ddf22",
   "metadata": {},
   "outputs": [],
   "source": [
    "print(df_cleaned['year'].value_counts().sort_index())\n"
   ]
  },
  {
   "cell_type": "code",
   "execution_count": null,
   "id": "587bce66-2b85-46d6-809d-3aa6249b4d75",
   "metadata": {},
   "outputs": [],
   "source": [
    "print(df_cleaned['year'].value_counts().sort_index())\n"
   ]
  },
  {
   "cell_type": "code",
   "execution_count": null,
   "id": "e6da3a77-49fc-4e0b-9208-c6404ac9c6d2",
   "metadata": {},
   "outputs": [],
   "source": [
    "print(df_cleaned[['abstract_word_count']].describe())\n"
   ]
  },
  {
   "cell_type": "code",
   "execution_count": null,
   "id": "24a5539f-2445-4a40-a717-a020192b79c5",
   "metadata": {},
   "outputs": [],
   "source": [
    "import matplotlib.pyplot as plt\n",
    "import seaborn as sns\n",
    "\n",
    "# Count papers by year\n",
    "year_counts = df_cleaned['year'].value_counts().sort_index()\n",
    "\n",
    "# Plot\n",
    "plt.figure(figsize=(10,6))\n",
    "sns.barplot(x=year_counts.index, y=year_counts.values, palette='Blues')\n",
    "plt.title('Number of Publications by Year')\n",
    "plt.xlabel('Year')\n",
    "plt.ylabel('Number of Papers')\n",
    "plt.xticks(rotation=45)\n",
    "plt.tight_layout()\n",
    "plt.show()\n"
   ]
  },
  {
   "cell_type": "code",
   "execution_count": null,
   "id": "481a47bb-286c-4476-a6de-5e579f5bddc0",
   "metadata": {},
   "outputs": [],
   "source": [
    "# Count top 10 journals\n",
    "top_journals = df_cleaned['journal'].value_counts().head(10)\n",
    "\n",
    "# Plot\n",
    "plt.figure(figsize=(10,6))\n",
    "sns.barplot(y=top_journals.index, x=top_journals.values, palette='Greens')\n",
    "plt.title('Top 10 Journals Publishing COVID-19 Research')\n",
    "plt.xlabel('Number of Papers')\n",
    "plt.ylabel('Journal')\n",
    "plt.tight_layout()\n",
    "plt.show()\n"
   ]
  },
  {
   "cell_type": "code",
   "execution_count": null,
   "id": "62c5f791-98ae-4828-b1ed-01b127957fd0",
   "metadata": {},
   "outputs": [],
   "source": [
    "from collections import Counter\n",
    "import re\n",
    "\n",
    "# Combine all titles into one string\n",
    "titles = df_cleaned['title'].dropna().str.lower().str.cat(sep=' ')\n",
    "words = re.findall(r'\\b[a-z]{4,}\\b', titles)  # words with 4+ letters\n",
    "common_words = Counter(words).most_common(20)\n",
    "\n",
    "# Prepare data\n",
    "words, counts = zip(*common_words)\n",
    "\n",
    "# Plot\n",
    "plt.figure(figsize=(10,6))\n",
    "sns.barplot(x=list(words), y=list(counts), palette='Purples')\n",
    "plt.title('Most Common Words in Paper Titles')\n",
    "plt.xlabel('Word')\n",
    "plt.ylabel('Frequency')\n",
    "plt.xticks(rotation=45)\n",
    "plt.tight_layout()\n",
    "plt.show()\n"
   ]
  },
  {
   "cell_type": "code",
   "execution_count": null,
   "id": "a6babe95-2756-4b7d-9c28-9432d7c64041",
   "metadata": {},
   "outputs": [],
   "source": [
    "# Count by source\n",
    "source_counts = df_cleaned['source_x'].value_counts().head(10)\n",
    "\n",
    "# Plot\n",
    "plt.figure(figsize=(10,6))\n",
    "sns.barplot(y=source_counts.index, x=source_counts.values, palette='Oranges')\n",
    "plt.title('Top Sources of COVID-19 Papers')\n",
    "plt.xlabel('Number of Papers')\n",
    "plt.ylabel('Source')\n",
    "plt.tight_layout()\n",
    "plt.show()\n"
   ]
  }
 ],
 "metadata": {
  "kernelspec": {
   "display_name": "Python 3 (ipykernel)",
   "language": "python",
   "name": "python3"
  },
  "language_info": {
   "codemirror_mode": {
    "name": "ipython",
    "version": 3
   },
   "file_extension": ".py",
   "mimetype": "text/x-python",
   "name": "python",
   "nbconvert_exporter": "python",
   "pygments_lexer": "ipython3",
   "version": "3.13.7"
  }
 },
 "nbformat": 4,
 "nbformat_minor": 5
}
